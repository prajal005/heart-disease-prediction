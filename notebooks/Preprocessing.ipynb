{
 "cells": [
  {
   "cell_type": "code",
   "execution_count": 13,
   "id": "a239bb1c-b183-4b44-8c1d-b36f3637ad95",
   "metadata": {},
   "outputs": [],
   "source": [
    "import pandas as pd\n",
    "from sklearn.preprocessing import StandardScaler, OneHotEncoder\n",
    "from sklearn.compose import ColumnTransformer"
   ]
  },
  {
   "cell_type": "markdown",
   "id": "9cc7df4f-61bc-42bc-bee8-54cc01109a0d",
   "metadata": {},
   "source": [
    "## Load dataset"
   ]
  },
  {
   "cell_type": "code",
   "execution_count": 14,
   "id": "e15ef5eb-2c6d-419a-a986-0a8d7e4ba18f",
   "metadata": {},
   "outputs": [],
   "source": [
    "df = pd.read_csv(\"heart.csv\")"
   ]
  },
  {
   "cell_type": "markdown",
   "id": "227b072d-7361-4e19-8385-9a11c4633ad8",
   "metadata": {},
   "source": [
    "## Drop duplicates"
   ]
  },
  {
   "cell_type": "code",
   "execution_count": 15,
   "id": "119d5ce5-2679-4ee5-9c92-6d85df721366",
   "metadata": {},
   "outputs": [],
   "source": [
    "df = df.drop_duplicates()"
   ]
  },
  {
   "cell_type": "markdown",
   "id": "aa331154-6e7d-424c-a077-623802b6902f",
   "metadata": {},
   "source": [
    "## Define features and target"
   ]
  },
  {
   "cell_type": "code",
   "execution_count": 16,
   "id": "6c477410-f688-46f8-af94-406e7ff4110e",
   "metadata": {},
   "outputs": [],
   "source": [
    "X = df.drop(\"target\", axis=1)\n",
    "y = df[\"target\"]"
   ]
  },
  {
   "cell_type": "markdown",
   "id": "8dd328d1-404d-448b-b1e2-5b031f25c533",
   "metadata": {},
   "source": [
    "\n",
    "## Define categorical and numerical columns"
   ]
  },
  {
   "cell_type": "code",
   "execution_count": 17,
   "id": "c0bd9def-a59f-4f95-977f-34001a5ab838",
   "metadata": {},
   "outputs": [],
   "source": [
    "categorical_features = [\"sex\", \"cp\", \"fbs\", \"restecg\", \"exang\", \"slope\", \"ca\", \"thal\"]\n",
    "numerical_features = [\"age\", \"trestbps\", \"chol\", \"thalach\", \"oldpeak\"]"
   ]
  },
  {
   "cell_type": "markdown",
   "id": "6802553f-e961-4662-ba01-088ec479ee8d",
   "metadata": {},
   "source": [
    "## Preprocessor: scale numericals, one-hot encode categoricals"
   ]
  },
  {
   "cell_type": "code",
   "execution_count": 18,
   "id": "1416b96f-1159-4412-8472-ef5167c6af59",
   "metadata": {},
   "outputs": [],
   "source": [
    "preprocessor = ColumnTransformer(\n",
    "    transformers=[\n",
    "        (\"num\", StandardScaler(), numerical_features),\n",
    "        (\"cat\", OneHotEncoder(drop=\"first\"), categorical_features)\n",
    "    ]\n",
    ")"
   ]
  },
  {
   "cell_type": "markdown",
   "id": "8d48bc4f-f4aa-48d5-a5bb-dcebc675639d",
   "metadata": {},
   "source": [
    "# Fit and transform\n"
   ]
  },
  {
   "cell_type": "code",
   "execution_count": 19,
   "id": "b09f299a-8b9f-41d2-a262-a2253cdf4b10",
   "metadata": {},
   "outputs": [],
   "source": [
    "X_processed = preprocessor.fit_transform(X)"
   ]
  },
  {
   "cell_type": "markdown",
   "id": "3b16c062-8b31-4d56-8aae-a497395b2391",
   "metadata": {},
   "source": [
    "\n",
    "## Get new column names"
   ]
  },
  {
   "cell_type": "code",
   "execution_count": 20,
   "id": "0b735fc5-6a1b-438e-a559-4e2b2dd88895",
   "metadata": {},
   "outputs": [],
   "source": [
    "encoded_cols = preprocessor.named_transformers_[\"cat\"].get_feature_names_out(categorical_features)\n",
    "all_features = numerical_features + list(encoded_cols)\n"
   ]
  },
  {
   "cell_type": "markdown",
   "id": "e1d01c37-7d1e-4c86-9062-2589fdaf63a6",
   "metadata": {},
   "source": [
    "## Convert to DataFrame\n"
   ]
  },
  {
   "cell_type": "code",
   "execution_count": 21,
   "id": "c6d89640-31a7-4acf-9a99-fded5393a694",
   "metadata": {},
   "outputs": [],
   "source": [
    "X_processed_df = pd.DataFrame(X_processed, columns=all_features)"
   ]
  },
  {
   "cell_type": "markdown",
   "id": "98842eed-12e0-4078-8772-296097bbe3c9",
   "metadata": {},
   "source": [
    "## Add target back"
   ]
  },
  {
   "cell_type": "code",
   "execution_count": 22,
   "id": "ee9dc108-50d7-4881-a76c-8be007002576",
   "metadata": {},
   "outputs": [],
   "source": [
    "processed_df = pd.concat([X_processed_df, y.reset_index(drop=True)], axis=1)"
   ]
  },
  {
   "cell_type": "code",
   "execution_count": 23,
   "id": "357701de-41b0-44cf-b149-d6c71f4a6904",
   "metadata": {},
   "outputs": [
    {
     "name": "stdout",
     "output_type": "stream",
     "text": [
      "        age  trestbps      chol   thalach   oldpeak  sex_1  cp_1  cp_2  cp_3  \\\n",
      "0 -0.267966 -0.376556 -0.667728  0.806035 -0.037124    1.0   0.0   0.0   0.0   \n",
      "1 -0.157260  0.478910 -0.841918  0.237495  1.773958    1.0   0.0   0.0   0.0   \n",
      "2  1.724733  0.764066 -1.403197 -1.074521  1.342748    1.0   0.0   0.0   0.0   \n",
      "3  0.728383  0.935159 -0.841918  0.499898 -0.899544    1.0   0.0   0.0   0.0   \n",
      "4  0.839089  0.364848  0.919336 -1.905464  0.739054    0.0   0.0   0.0   0.0   \n",
      "\n",
      "   fbs_1  ...  slope_1  slope_2  ca_1  ca_2  ca_3  ca_4  thal_1  thal_2  \\\n",
      "0    0.0  ...      0.0      1.0   0.0   1.0   0.0   0.0     0.0     0.0   \n",
      "1    1.0  ...      0.0      0.0   0.0   0.0   0.0   0.0     0.0     0.0   \n",
      "2    0.0  ...      0.0      0.0   0.0   0.0   0.0   0.0     0.0     0.0   \n",
      "3    0.0  ...      0.0      1.0   1.0   0.0   0.0   0.0     0.0     0.0   \n",
      "4    1.0  ...      1.0      0.0   0.0   0.0   1.0   0.0     0.0     1.0   \n",
      "\n",
      "   thal_3  target  \n",
      "0     1.0       0  \n",
      "1     1.0       0  \n",
      "2     1.0       0  \n",
      "3     1.0       0  \n",
      "4     0.0       0  \n",
      "\n",
      "[5 rows x 23 columns]\n",
      "\n",
      "Final shape: (302, 23)\n"
     ]
    }
   ],
   "source": [
    "print(processed_df.head())\n",
    "print(\"\\nFinal shape:\", processed_df.shape)"
   ]
  },
  {
   "cell_type": "code",
   "execution_count": null,
   "id": "fb960cb8-1463-44ec-97cd-b2e4011b7f60",
   "metadata": {},
   "outputs": [],
   "source": []
  },
  {
   "cell_type": "code",
   "execution_count": null,
   "id": "f0cac28f-14c8-46d1-a0f8-208140bd6db9",
   "metadata": {},
   "outputs": [],
   "source": []
  },
  {
   "cell_type": "code",
   "execution_count": null,
   "id": "cc7e0ab2-9fe2-4ec9-8073-c1020a417362",
   "metadata": {},
   "outputs": [],
   "source": []
  }
 ],
 "metadata": {
  "kernelspec": {
   "display_name": "Python 3 (ipykernel)",
   "language": "python",
   "name": "python3"
  },
  "language_info": {
   "codemirror_mode": {
    "name": "ipython",
    "version": 3
   },
   "file_extension": ".py",
   "mimetype": "text/x-python",
   "name": "python",
   "nbconvert_exporter": "python",
   "pygments_lexer": "ipython3",
   "version": "3.11.5"
  }
 },
 "nbformat": 4,
 "nbformat_minor": 5
}
