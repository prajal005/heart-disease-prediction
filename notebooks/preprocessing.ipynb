import pandas as pd
from sklearn.preprocessing import StandardScaler, OneHotEncoder
from sklearn.compose import ColumnTransformer

# Load dataset
df = pd.read_csv("heart.csv")

# Drop duplicates
df = df.drop_duplicates()

# Define features and target
X = df.drop("target", axis=1)
y = df["target"]

# Define categorical and numerical columns
categorical_features = ["sex", "cp", "fbs", "restecg", "exang", "slope", "ca", "thal"]
numerical_features = ["age", "trestbps", "chol", "thalach", "oldpeak"]

# Preprocessor: scale numericals, one-hot encode categoricals
preprocessor = ColumnTransformer(
    transformers=[
        ("num", StandardScaler(), numerical_features),
        ("cat", OneHotEncoder(drop="first"), categorical_features)
    ]
)

# Fit and transform
X_processed = preprocessor.fit_transform(X)

# Get new column names
encoded_cols = preprocessor.named_transformers_["cat"].get_feature_names_out(categorical_features)
all_features = numerical_features + list(encoded_cols)

# Convert to DataFrame
X_processed_df = pd.DataFrame(X_processed, columns=all_features)

# Add target back
processed_df = pd.concat([X_processed_df, y.reset_index(drop=True)], axis=1)

print(processed_df.head())
print("\nFinal shape:", processed_df.shape)

