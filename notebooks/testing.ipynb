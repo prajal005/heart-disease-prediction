{
 "cells": [
  {
   "cell_type": "markdown",
   "id": "1edee1f0-7ed3-4459-9ec4-2c28717eba5f",
   "metadata": {},
   "source": [
    "# Model Evaluation on Unseen Test Data (Logistic Regression)\n",
    "\n",
    "This notebook evaluates our saved Logistic Regression model on the test dataset."
   ]
  },
  {
   "cell_type": "markdown",
   "id": "1dba6c2e-f1da-4a09-8d03-ad28135076a3",
   "metadata": {},
   "source": [
    "## 1. Import Libraries"
   ]
  },
  {
   "cell_type": "code",
   "execution_count": 80,
   "id": "e83e0309-2aeb-4ed9-8ad9-144b218f6878",
   "metadata": {},
   "outputs": [],
   "source": [
    "import pandas as pd\n",
    "import joblib \n",
    "import seaborn as sns\n",
    "import matplotlib.pyplot as plt\n",
    "from sklearn.metrics import accuracy_score, classification_report, confusion_matrix"
   ]
  },
  {
   "cell_type": "markdown",
   "id": "ba4a8dc8-fe57-49ec-bd0a-42f31ca007cc",
   "metadata": {},
   "source": [
    "## 2. Load Data and Model"
   ]
  },
  {
   "cell_type": "code",
   "execution_count": 82,
   "id": "ffdd1c7a-cf0c-4659-8d12-dfac4273b82a",
   "metadata": {},
   "outputs": [
    {
     "name": "stdout",
     "output_type": "stream",
     "text": [
      "Trained Logistic Regression Model loaded successfully.\n",
      "Processed test data loaded successfully.\n"
     ]
    }
   ],
   "source": [
    "# Load the trained model\n",
    "try:\n",
    "    model= joblib.load('../models/logistic_regression_model.pkl')\n",
    "    print(\"Trained Logistic Regression Model loaded successfully.\")\n",
    "except FileNotFoundError:\n",
    "    print(\"Error: 'logistic_regression_model.pkl' not found.\")\n",
    "    print(\"Please ensure you have run the training script to save the model.\")\n",
    "\n",
    "# Load the processed data\n",
    "try:\n",
    "    test_df= pd.read_csv('../data/processed/test.csv')\n",
    "    print(\"Processed test data loaded successfully.\")\n",
    "except FileNotFoundError:\n",
    "    print(\"Error: '../data/processed/test.csv' not found\")\n",
    "    print(\"Please ensure you have run the preprocessing.py script first.\")"
   ]
  },
  {
   "cell_type": "markdown",
   "id": "e1cce626-3bc8-42ca-8d4a-103d2b75cd99",
   "metadata": {},
   "source": [
    "## 3. Prepare the Data"
   ]
  },
  {
   "cell_type": "code",
   "execution_count": 84,
   "id": "024d01fd-43cf-41b9-a21a-80e3a455a3da",
   "metadata": {},
   "outputs": [
    {
     "name": "stdout",
     "output_type": "stream",
     "text": [
      "Test set shape: (201, 21)\n"
     ]
    }
   ],
   "source": [
    "X_test= test_df.drop('target', axis=1)\n",
    "y_test= test_df['target']\n",
    "\n",
    "print(f\"Test set shape: {X_test.shape}\")"
   ]
  },
  {
   "cell_type": "markdown",
   "id": "c9786d04-d1ae-45bd-8d24-9cf093d280c0",
   "metadata": {},
   "source": [
    "## 4. Evaluation"
   ]
  },
  {
   "cell_type": "markdown",
   "id": "3a06686f-e0e1-44ac-aa7b-e4b6d5bb84c5",
   "metadata": {},
   "source": [
    "### Prediction"
   ]
  },
  {
   "cell_type": "code",
   "execution_count": 86,
   "id": "75275b9e-167a-4650-b867-f8bc5bd5ce8c",
   "metadata": {},
   "outputs": [
    {
     "name": "stdout",
     "output_type": "stream",
     "text": [
      "-- Final Model Evaluation --\n",
      "Accuracy: 0.88\n"
     ]
    }
   ],
   "source": [
    "y_pred= model.predict(X_test)\n",
    "\n",
    "print(\"-- Final Model Evaluation --\")\n",
    "print(f\"Accuracy: {accuracy_score(y_test, y_pred):.2f}\")"
   ]
  },
  {
   "cell_type": "markdown",
   "id": "45b2af7d-d9ce-4a02-b7da-cb0b23288952",
   "metadata": {},
   "source": [
    "### Classification Report"
   ]
  },
  {
   "cell_type": "code",
   "execution_count": 88,
   "id": "60fce92a-1805-42c4-b558-dcc4aeb50220",
   "metadata": {},
   "outputs": [
    {
     "name": "stdout",
     "output_type": "stream",
     "text": [
      "Classification Report:\n",
      "              precision    recall  f1-score   support\n",
      "\n",
      "           0       0.90      0.84      0.87        99\n",
      "           1       0.85      0.91      0.88       102\n",
      "\n",
      "    accuracy                           0.88       201\n",
      "   macro avg       0.88      0.88      0.88       201\n",
      "weighted avg       0.88      0.88      0.88       201\n",
      "\n"
     ]
    }
   ],
   "source": [
    "print(\"Classification Report:\")\n",
    "print(classification_report(y_test, y_pred))"
   ]
  },
  {
   "cell_type": "markdown",
   "id": "c803b2de-4e37-45c3-82c6-d104f57ab382",
   "metadata": {},
   "source": [
    "### Confusion Matrix"
   ]
  },
  {
   "cell_type": "code",
   "execution_count": 90,
   "id": "788d7684-3647-4f22-9693-f953b6338ba3",
   "metadata": {},
   "outputs": [
    {
     "name": "stdout",
     "output_type": "stream",
     "text": [
      "Confusion Matrix:\n",
      "[[83 16]\n",
      " [ 9 93]]\n"
     ]
    }
   ],
   "source": [
    "print(\"Confusion Matrix:\")\n",
    "print(confusion_matrix(y_test, y_pred))"
   ]
  },
  {
   "cell_type": "markdown",
   "id": "b02b7731-047f-4b7b-8f45-c76213fd8895",
   "metadata": {},
   "source": [
    "## Evaluation Heatmap"
   ]
  },
  {
   "cell_type": "code",
   "execution_count": 92,
   "id": "a22d29e0-8bc4-4073-ac51-6f823cff5f5b",
   "metadata": {},
   "outputs": [
    {
     "data": {
      "image/png": "[encoded data removed]",
      "text/plain": [
       "<Figure size 800x600 with 2 Axes>"
      ]
     },
     "metadata": {},
     "output_type": "display_data"
    }
   ],
   "source": [
    "cm = confusion_matrix(y_test, y_pred)\n",
    "plt.figure(figsize=(8,6))\n",
    "plt.title(\"Confusion Matrix for Logistic Regression\")\n",
    "sns.heatmap(cm, annot=True, fmt='d', cmap='Blues',xticklabels=[\"No Disease\", \"Disease\"],yticklabels=[\"No Disease\", \"Disease\"])\n",
    "plt.xlabel('Predicted')\n",
    "plt.ylabel('Actual')\n",
    "plt.show()"
   ]
  },
  {
   "cell_type": "code",
   "execution_count": null,
   "id": "10a4bb30-3ddf-44e4-9584-5f2bf8e904f9",
   "metadata": {},
   "outputs": [],
   "source": []
  }
 ],
 "metadata": {
  "kernelspec": {
   "display_name": "Python [conda env:base] *",
   "language": "python",
   "name": "conda-base-py"
  },
  "language_info": {
   "codemirror_mode": {
    "name": "ipython",
    "version": 3
   },
   "file_extension": ".py",
   "mimetype": "text/x-python",
   "name": "python",
   "nbconvert_exporter": "python",
   "pygments_lexer": "ipython3",
   "version": "3.12.7"
  }
 },
 "nbformat": 4,
 "nbformat_minor": 5
}
